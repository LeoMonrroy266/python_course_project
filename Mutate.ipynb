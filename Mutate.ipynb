{
 "cells": [
  {
   "cell_type": "code",
   "execution_count": 1,
   "id": "252df145-ec30-4395-9c86-4358423b3395",
   "metadata": {},
   "outputs": [],
   "source": [
    "import numpy as np\n",
    "from Bio import SeqIO\n",
    "from Bio.Seq import Seq\n",
    "from mutate import mutate"
   ]
  },
  {
   "cell_type": "code",
   "execution_count": 8,
   "id": "2914b60c-70ca-42f8-9949-82b4040aa749",
   "metadata": {},
   "outputs": [],
   "source": [
    "def unfold_series (file,path):\n",
    "    for i in np.arange(2, 12, 2):\n",
    "        pos = np.arange(144-(2*(i)), 145, 2)\n",
    "        print(pos)\n",
    "        residues = ['G'] * pos.shape[0]\n",
    "        name = f'{path}AsLOV_Gly2_{i+1}'\n",
    "        mutate(file, pos, residues, name)"
   ]
  },
  {
   "cell_type": "code",
   "execution_count": 9,
   "id": "72bbcd64-6bd2-40a2-8884-2d1e0895b85d",
   "metadata": {},
   "outputs": [
    {
     "name": "stdout",
     "output_type": "stream",
     "text": [
      "[140 142 144]\n",
      "140\n",
      "G\n",
      "142\n",
      "G\n",
      "144\n",
      "G\n",
      "[136 138 140 142 144]\n",
      "136\n",
      "G\n",
      "138\n",
      "G\n",
      "140\n",
      "G\n",
      "142\n",
      "G\n",
      "144\n",
      "G\n",
      "[132 134 136 138 140 142 144]\n",
      "132\n",
      "G\n",
      "134\n",
      "G\n",
      "136\n",
      "G\n",
      "138\n",
      "G\n",
      "140\n",
      "G\n",
      "142\n",
      "G\n",
      "144\n",
      "G\n",
      "[128 130 132 134 136 138 140 142 144]\n",
      "128\n",
      "G\n",
      "130\n",
      "G\n",
      "132\n",
      "G\n",
      "134\n",
      "G\n",
      "136\n",
      "G\n",
      "138\n",
      "G\n",
      "140\n",
      "G\n",
      "142\n",
      "G\n",
      "144\n",
      "G\n",
      "[124 126 128 130 132 134 136 138 140 142 144]\n",
      "124\n",
      "G\n",
      "126\n",
      "G\n",
      "128\n",
      "G\n",
      "130\n",
      "G\n",
      "132\n",
      "G\n",
      "134\n",
      "G\n",
      "136\n",
      "G\n",
      "138\n",
      "G\n",
      "140\n",
      "G\n",
      "142\n",
      "G\n",
      "144\n",
      "G\n"
     ]
    }
   ],
   "source": [
    "file = '/home/leonardo/Solution_Scattering_2208/AsLOV2/Unfolding_test/AsLOV2.fasta'\n",
    "path = '/home/leonardo/Solution_Scattering_2208/AsLOV2/Unfolding_test/'\n",
    "unfold_series(file, path)"
   ]
  },
  {
   "cell_type": "code",
   "execution_count": null,
   "id": "76b5e97e-0fe6-49b4-81d5-d74930f36212",
   "metadata": {},
   "outputs": [],
   "source": []
  },
  {
   "cell_type": "code",
   "execution_count": null,
   "id": "e5fd8ec4-a002-46de-be93-ab8079f729fa",
   "metadata": {},
   "outputs": [],
   "source": []
  }
 ],
 "metadata": {
  "kernelspec": {
   "display_name": "Python 3 (ipykernel)",
   "language": "python",
   "name": "python3"
  },
  "language_info": {
   "codemirror_mode": {
    "name": "ipython",
    "version": 3
   },
   "file_extension": ".py",
   "mimetype": "text/x-python",
   "name": "python",
   "nbconvert_exporter": "python",
   "pygments_lexer": "ipython3",
   "version": "3.9.7"
  }
 },
 "nbformat": 4,
 "nbformat_minor": 5
}
